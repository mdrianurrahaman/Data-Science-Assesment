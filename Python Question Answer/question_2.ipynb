{
 "cells": [
  {
   "cell_type": "code",
   "execution_count": 3,
   "metadata": {},
   "outputs": [
    {
     "name": "stdout",
     "output_type": "stream",
     "text": [
      "Example Output: 5\n",
      "Output for Test Case 1 with Special Characters: 5\n",
      "Output for Test Case with Repeated Characters: 6\n"
     ]
    }
   ],
   "source": [
    "from collections import Counter\n",
    "\n",
    "def highest_frequency_word_length(input_string):\n",
    "    # Tokenize the input string into words\n",
    "    words = input_string.split()\n",
    "\n",
    "    # Count the frequency of each word using Counter\n",
    "    word_counts = Counter(words)\n",
    "\n",
    "    # Find the word with the highest frequency\n",
    "    most_common_word = word_counts.most_common(1)[0][0]\n",
    "\n",
    "    # Return the length of the most frequent word\n",
    "    return len(most_common_word)\n",
    "\n",
    "# Example usage:\n",
    "example_input = \"write write write all the number from from from 1 to 100\"\n",
    "example_output = highest_frequency_word_length(example_input)\n",
    "print(\"Example Output:\", example_output)\n",
    "\n",
    "######## case 1 \n",
    "input_string_special = \"write write write all the number from from from 1 to 100\"\n",
    "output = highest_frequency_word_length(input_string_special)\n",
    "print(\"Output for Test Case 1 with Special Characters:\", output)\n",
    "\n",
    "\n",
    "#### case 2\n",
    "\n",
    "input_string_repeated = \"mother mother o mother you are so beutiful\"\n",
    "output_repeated = highest_frequency_word_length(input_string_repeated)\n",
    "print(\"Output for Test Case with Repeated Characters:\", output_repeated)\n",
    "\n",
    "\n",
    "\n"
   ]
  },
  {
   "cell_type": "code",
   "execution_count": null,
   "metadata": {},
   "outputs": [],
   "source": []
  }
 ],
 "metadata": {
  "kernelspec": {
   "display_name": "env",
   "language": "python",
   "name": "python3"
  },
  "language_info": {
   "codemirror_mode": {
    "name": "ipython",
    "version": 3
   },
   "file_extension": ".py",
   "mimetype": "text/x-python",
   "name": "python",
   "nbconvert_exporter": "python",
   "pygments_lexer": "ipython3",
   "version": "3.10.6"
  }
 },
 "nbformat": 4,
 "nbformat_minor": 2
}
